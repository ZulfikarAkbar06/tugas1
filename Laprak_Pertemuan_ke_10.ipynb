{
  "nbformat": 4,
  "nbformat_minor": 0,
  "metadata": {
    "colab": {
      "provenance": [],
      "authorship_tag": "ABX9TyOPAV2bPKsW33kUN2enzCKc",
      "include_colab_link": true
    },
    "kernelspec": {
      "name": "python3",
      "display_name": "Python 3"
    },
    "language_info": {
      "name": "python"
    }
  },
  "cells": [
    {
      "cell_type": "markdown",
      "metadata": {
        "id": "view-in-github",
        "colab_type": "text"
      },
      "source": [
        "<a href=\"https://colab.research.google.com/github/ZulfikarAkbar06/tugas1/blob/main/Laprak_Pertemuan_ke_10.ipynb\" target=\"_parent\"><img src=\"https://colab.research.google.com/assets/colab-badge.svg\" alt=\"Open In Colab\"/></a>"
      ]
    },
    {
      "cell_type": "code",
      "execution_count": 1,
      "metadata": {
        "colab": {
          "base_uri": "https://localhost:8080/"
        },
        "id": "swk1_wabJHK-",
        "outputId": "908dc741-2676-4973-b79c-9f1273bc9937"
      },
      "outputs": [
        {
          "output_type": "stream",
          "name": "stdout",
          "text": [
            "Masukkan bilangan5\n",
            "5! = faktorial(n)\n"
          ]
        }
      ],
      "source": [
        "n = int(input(\"Masukkan bilangan\"))\n",
        "faktorial = lambda x:1 if x == 0 or x == 1 else x * faktorial(x-1)\n",
        "print(f\"{n}! = {faktorial(n)}\")"
      ]
    },
    {
      "cell_type": "code",
      "source": [
        "from math import pi\n",
        "\n",
        "while True:\n",
        "  print(\"Menu:\")\n",
        "  print(\"1. Luas Lingkaran\")\n",
        "  print(\"2. Luas Persegi\")\n",
        "  print(\"3. Luas Segitiga\")\n",
        "  print(\"4. Keluar\")\n",
        "\n",
        "  pilihan = input(\"pilih menu (1-4): \")\n",
        "\n",
        "  if pilihan == '1' :\n",
        "    r = float(input(\"Masukkan jari-jari: \"))\n",
        "    luas = pi * r * r\n",
        "    print(f\"Luas Lingkaran = {luas: .2f}\")\n",
        "\n",
        "  elif pilihan == '2' :\n",
        "    s = float(input(\"Masukkan sisi: \"))\n",
        "    luas = s * s\n",
        "    print(f\"Luas Persegi = {luas}\")\n",
        "\n",
        "  elif pilihan == '3' :\n",
        "    a = float(input(\"Masukkan alas: \"))\n",
        "    t = float(input(\"Masukkan tinggi: \"))\n",
        "    luas = 0.5 * a * t\n",
        "    print(f\"Luas Segitiga = {luas}\")\n",
        "\n",
        "  elif pilihan == '4' :\n",
        "    print(\"Program selesai\")\n",
        "    break\n",
        "\n",
        "  else :\n",
        "    print(\"Pilihan tidak valid\")\n",
        "\n",
        ""
      ],
      "metadata": {
        "colab": {
          "base_uri": "https://localhost:8080/"
        },
        "id": "n6hUa9aZLmIO",
        "outputId": "0b76fc15-a8cf-49af-d3ca-06c083b92b01"
      },
      "execution_count": 2,
      "outputs": [
        {
          "output_type": "stream",
          "name": "stdout",
          "text": [
            "Menu:\n",
            "1. Luas Lingkaran\n",
            "2. Luas Persegi\n",
            "3. Luas Segitiga\n",
            "4. Keluar\n",
            "pilih menu (1-4): 1\n",
            "Masukkan jari-jari: 3\n",
            "Luas Lingkaran =  28.27\n",
            "Menu:\n",
            "1. Luas Lingkaran\n",
            "2. Luas Persegi\n",
            "3. Luas Segitiga\n",
            "4. Keluar\n",
            "pilih menu (1-4): 2\n",
            "Masukkan sisi: 3\n",
            "Luas Persegi = 9.0\n",
            "Menu:\n",
            "1. Luas Lingkaran\n",
            "2. Luas Persegi\n",
            "3. Luas Segitiga\n",
            "4. Keluar\n",
            "pilih menu (1-4): 3\n",
            "Masukkan alas: 5\n",
            "Masukkan tinggi: 5\n",
            "Luas Segitiga = 12.5\n",
            "Menu:\n",
            "1. Luas Lingkaran\n",
            "2. Luas Persegi\n",
            "3. Luas Segitiga\n",
            "4. Keluar\n",
            "pilih menu (1-4): 4\n",
            "Program selesai\n"
          ]
        }
      ]
    }
  ]
}