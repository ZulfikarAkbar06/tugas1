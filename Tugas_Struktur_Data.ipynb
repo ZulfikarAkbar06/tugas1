{
  "nbformat": 4,
  "nbformat_minor": 0,
  "metadata": {
    "colab": {
      "provenance": [],
      "authorship_tag": "ABX9TyOwDAIlCCt+gXBljDWHdqgD",
      "include_colab_link": true
    },
    "kernelspec": {
      "name": "python3",
      "display_name": "Python 3"
    },
    "language_info": {
      "name": "python"
    }
  },
  "cells": [
    {
      "cell_type": "markdown",
      "metadata": {
        "id": "view-in-github",
        "colab_type": "text"
      },
      "source": [
        "<a href=\"https://colab.research.google.com/github/ZulfikarAkbar06/tugas1/blob/main/Tugas_Struktur_Data.ipynb\" target=\"_parent\"><img src=\"https://colab.research.google.com/assets/colab-badge.svg\" alt=\"Open In Colab\"/></a>"
      ]
    },
    {
      "cell_type": "code",
      "execution_count": 1,
      "metadata": {
        "colab": {
          "base_uri": "https://localhost:8080/"
        },
        "id": "j7X3C8KbZsGJ",
        "outputId": "d796903c-5ca7-486d-de97-f5e400408ac9"
      },
      "outputs": [
        {
          "output_type": "stream",
          "name": "stdout",
          "text": [
            "Masukkan nama satpam ke-1: Zul\n",
            "Masukkan nama satpam ke-2: Andra\n",
            "Masukkan nama satpam ke-3: Dana\n",
            "Masukkan nama satpam ke-4: Vista\n",
            "\n",
            "➜ Jadwal Piket Satpam Selama 2 Minggu\n",
            "\n",
            "Hari 1: Zul\n",
            "Hari 2: Andra\n",
            "Hari 3: Dana\n",
            "Hari 4: Vista\n",
            "Hari 5: Zul\n",
            "Hari 6: Andra\n",
            "Hari 7: Dana\n",
            "Hari 8: Vista\n",
            "Hari 9: Zul\n",
            "Hari 10: Andra\n",
            "Hari 11: Dana\n",
            "Hari 12: Vista\n",
            "Hari 13: Zul\n",
            "Hari 14: Andra\n"
          ]
        }
      ],
      "source": [
        "class Node:\n",
        "    def __init__(self, data):\n",
        "        self.data = data\n",
        "        self.next = None\n",
        "\n",
        "class CircularLinkedList:\n",
        "    def __init__(self):\n",
        "        self.head = None\n",
        "\n",
        "    def append(self, data):\n",
        "        new_node = Node(data)\n",
        "        if not self.head:\n",
        "            self.head = new_node\n",
        "            new_node.next = self.head\n",
        "        else:\n",
        "            temp = self.head\n",
        "            while temp.next != self.head:\n",
        "                temp = temp.next\n",
        "            temp.next = new_node\n",
        "            new_node.next = self.head\n",
        "\n",
        "    def get_schedule(self, days):\n",
        "        schedule = []\n",
        "        temp = self.head\n",
        "        for _ in range(days):\n",
        "            schedule.append(temp.data)\n",
        "            temp = temp.next\n",
        "        return schedule\n",
        "\n",
        "def main():\n",
        "    cllist = CircularLinkedList()\n",
        "    names = [input(f\"Masukkan nama satpam ke-{i+1}: \") for i in range(4)]\n",
        "\n",
        "    for name in names:\n",
        "        cllist.append(name)\n",
        "\n",
        "    print(\"\\n➜ Jadwal Piket Satpam Selama 2 Minggu\\n\")\n",
        "    schedule = cllist.get_schedule(14)\n",
        "    for i, name in enumerate(schedule, start=1):\n",
        "        print(f\"Hari {i}: {name}\")\n",
        "\n",
        "if __name__ == \"__main__\":\n",
        "    main()"
      ]
    }
  ]
}