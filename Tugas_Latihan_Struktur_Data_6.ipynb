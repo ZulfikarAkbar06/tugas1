{
  "nbformat": 4,
  "nbformat_minor": 0,
  "metadata": {
    "colab": {
      "provenance": [],
      "authorship_tag": "ABX9TyPVEESVh71Cz3dIHPK+0kQk",
      "include_colab_link": true
    },
    "kernelspec": {
      "name": "python3",
      "display_name": "Python 3"
    },
    "language_info": {
      "name": "python"
    }
  },
  "cells": [
    {
      "cell_type": "markdown",
      "metadata": {
        "id": "view-in-github",
        "colab_type": "text"
      },
      "source": [
        "<a href=\"https://colab.research.google.com/github/ZulfikarAkbar06/tugas1/blob/main/Tugas_Latihan_Struktur_Data_6.ipynb\" target=\"_parent\"><img src=\"https://colab.research.google.com/assets/colab-badge.svg\" alt=\"Open In Colab\"/></a>"
      ]
    },
    {
      "cell_type": "code",
      "source": [
        "def quick_sort(arr):\n",
        "    if len(arr) <= 1:\n",
        "        return arr\n",
        "    pivot = arr[len(arr) // 2]\n",
        "    left = [x for x in arr if x > pivot]\n",
        "    middle = [x for x in arr if x == pivot]\n",
        "    right = [x for x in arr if x < pivot]\n",
        "    return quick_sort(left) + middle + quick_sort(right)\n",
        "\n",
        "def sort_student_grades(grades):\n",
        "    return quick_sort(grades)\n",
        "\n",
        "student_grades = [85, 90, 78, 92, 88, 76, 95, 89]\n",
        "\n",
        "print(\"Nilai mahasiswa sebelum diurutkan:\", student_grades)\n",
        "\n",
        "sorted_grades = sort_student_grades(student_grades)\n",
        "\n",
        "print(\"Nilai mahasiswa setelah diurutkan:\", sorted_grades)"
      ],
      "metadata": {
        "colab": {
          "base_uri": "https://localhost:8080/"
        },
        "id": "fAHiERNVopIr",
        "outputId": "a9bfdc15-d387-4b73-984d-e576f6fc69e7"
      },
      "execution_count": 3,
      "outputs": [
        {
          "output_type": "stream",
          "name": "stdout",
          "text": [
            "Nilai mahasiswa sebelum diurutkan: [85, 90, 78, 92, 88, 76, 95, 89]\n",
            "Nilai mahasiswa setelah diurutkan: [95, 92, 90, 89, 88, 85, 78, 76]\n"
          ]
        }
      ]
    }
  ]
}