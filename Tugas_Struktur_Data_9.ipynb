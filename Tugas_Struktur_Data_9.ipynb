{
  "nbformat": 4,
  "nbformat_minor": 0,
  "metadata": {
    "colab": {
      "provenance": [],
      "authorship_tag": "ABX9TyM0q4uqBgdVwAJ6Ix2dSfnY",
      "include_colab_link": true
    },
    "kernelspec": {
      "name": "python3",
      "display_name": "Python 3"
    },
    "language_info": {
      "name": "python"
    }
  },
  "cells": [
    {
      "cell_type": "markdown",
      "metadata": {
        "id": "view-in-github",
        "colab_type": "text"
      },
      "source": [
        "<a href=\"https://colab.research.google.com/github/ZulfikarAkbar06/tugas1/blob/main/Tugas_Struktur_Data_9.ipynb\" target=\"_parent\"><img src=\"https://colab.research.google.com/assets/colab-badge.svg\" alt=\"Open In Colab\"/></a>"
      ]
    },
    {
      "cell_type": "code",
      "execution_count": null,
      "metadata": {
        "colab": {
          "base_uri": "https://localhost:8080/"
        },
        "id": "AphMbwHFDkOV",
        "outputId": "3fcbdd1c-9e54-4592-f63d-fff8cc1829d3"
      },
      "outputs": [
        {
          "output_type": "stream",
          "name": "stdout",
          "text": [
            "Index 0: ('B', 20)\n",
            "Index 1: ('C', 30)\n",
            "Index 2: ('D', 40)\n",
            "Index 3: ('E', 50)\n",
            "Index 4: ('A', 10)\n"
          ]
        }
      ],
      "source": [
        "class LinearProbingHashTable:\n",
        "    def __init__(self, size):\n",
        "        self.size = size\n",
        "        self.table = [None] * size\n",
        "\n",
        "    def hash_function(self, key):\n",
        "        return hash(key) % self.size\n",
        "\n",
        "    def insert(self, key, value):\n",
        "        index = self.hash_function(key)\n",
        "        original_index = index\n",
        "        while self.table[index] is not None:\n",
        "            index = (index + 1) % self.size\n",
        "            if index == original_index:\n",
        "                raise Exception(\"Hash table penuh\")\n",
        "        self.table[index] = (key, value)\n",
        "\n",
        "    def print_table(self):\n",
        "        for i in range(self.size):\n",
        "            print(f\"Index {i}: {self.table[i]}\")\n",
        "\n",
        "hash_table = LinearProbingHashTable(5)\n",
        "\n",
        "hash_table.insert(\"A\", 10)\n",
        "hash_table.insert(\"B\", 20)\n",
        "hash_table.insert(\"C\", 30)\n",
        "hash_table.insert(\"D\", 40)\n",
        "hash_table.insert(\"E\", 50)\n",
        "\n",
        "hash_table.print_table()"
      ]
    },
    {
      "cell_type": "code",
      "source": [
        "class ChainingHashTable:\n",
        "    def __init__(self, size):\n",
        "        self.size = size\n",
        "        self.table = [[] for _ in range(size)]\n",
        "    def hash_function(self, key):\n",
        "        return hash(key) % self.size\n",
        "\n",
        "    def insert(self, key, value):\n",
        "        index = self.hash_function(key)\n",
        "        self.table[index].append((key, value))\n",
        "\n",
        "    def print_table(self):\n",
        "        for i in range(self.size):\n",
        "            print(f\"Index {i}: {self.table[i]}\")\n",
        "\n",
        "hash_table = ChainingHashTable(3)\n",
        "\n",
        "hash_table.insert(\"apel\", 100)\n",
        "hash_table.insert(\"melon\", 200)\n",
        "hash_table.insert(\"lemon\", 300)\n",
        "hash_table.insert(\"pisang\", 400)\n",
        "\n",
        "hash_table.print_table()"
      ],
      "metadata": {
        "colab": {
          "base_uri": "https://localhost:8080/"
        },
        "id": "F1WN0-wdDvNd",
        "outputId": "09e06030-3446-4fce-d7f2-674176dfad71"
      },
      "execution_count": null,
      "outputs": [
        {
          "output_type": "stream",
          "name": "stdout",
          "text": [
            "Index 0: [('melon', 200), ('pisang', 400)]\n",
            "Index 1: [('lemon', 300)]\n",
            "Index 2: [('apel', 100)]\n"
          ]
        }
      ]
    }
  ]
}