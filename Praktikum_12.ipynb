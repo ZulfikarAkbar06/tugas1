{
  "nbformat": 4,
  "nbformat_minor": 0,
  "metadata": {
    "colab": {
      "provenance": [],
      "authorship_tag": "ABX9TyNBtY4q3TQZ83o56xjX9Yn3",
      "include_colab_link": true
    },
    "kernelspec": {
      "name": "python3",
      "display_name": "Python 3"
    },
    "language_info": {
      "name": "python"
    }
  },
  "cells": [
    {
      "cell_type": "markdown",
      "metadata": {
        "id": "view-in-github",
        "colab_type": "text"
      },
      "source": [
        "<a href=\"https://colab.research.google.com/github/ZulfikarAkbar06/tugas1/blob/main/Praktikum_12.ipynb\" target=\"_parent\"><img src=\"https://colab.research.google.com/assets/colab-badge.svg\" alt=\"Open In Colab\"/></a>"
      ]
    },
    {
      "cell_type": "code",
      "execution_count": null,
      "metadata": {
        "colab": {
          "base_uri": "https://localhost:8080/"
        },
        "id": "3QJsGTWpLnYQ",
        "outputId": "1e84539a-9119-4b2e-950f-16ea9a0d3e6c"
      },
      "outputs": [
        {
          "metadata": {
            "tags": null
          },
          "name": "stdout",
          "output_type": "stream",
          "text": [
            "\n",
            "Menu:\n",
            "1. Luas Lingkaran\n",
            "2. Luas Persegi\n",
            "3. Luas Segitiga\n",
            "4. Keluar\n",
            "Pilihan tidak valid\n",
            "\n",
            "Menu:\n",
            "1. Luas Lingkaran\n",
            "2. Luas Persegi\n",
            "3. Luas Segitiga\n",
            "4. Keluar\n"
          ]
        }
      ],
      "source": [
        "from math import pi\n",
        "\n",
        "def validate_input(nilai, nama_nilai):\n",
        "    if not nilai.strip():\n",
        "        raise ValueError(f\"Input {nama_nilai} tidak boleh kosong\")\n",
        "    try:\n",
        "        return float(nilai)\n",
        "    except ValueError:\n",
        "        raise ValueError(f\"Input {nama_nilai} hanya boleh memasukkan angka\")\n",
        "\n",
        "while True:\n",
        "    print(\"\\nMenu:\")\n",
        "    print(\"1. Luas Lingkaran\")\n",
        "    print(\"2. Luas Persegi\")\n",
        "    print(\"3. Luas Segitiga\")\n",
        "    print(\"4. Keluar\")\n",
        "\n",
        "    try:\n",
        "        pilihan = input(\"Pilih menu (1-4): \")\n",
        "        if not pilihan.strip():\n",
        "            raise ValueError(\"Input pilihan tidak boleh kosong\")\n",
        "\n",
        "        if pilihan == '1':\n",
        "            try:\n",
        "                r = validate_input(input(\"Masukkan jari-jari: \"), \"jari-jari\")\n",
        "                luas = pi * r * r\n",
        "                print(f\"Luas Lingkaran = {luas:.2f}\")\n",
        "            except ValueError as e:\n",
        "                print(f\"Error: {e}\")\n",
        "\n",
        "        elif pilihan == '2':\n",
        "            try:\n",
        "                s = validate_input(input(\"Masukkan sisi: \"), \"sisi\")\n",
        "                luas = s * s\n",
        "                print(f\"Luas Persegi = {luas}\")\n",
        "            except ValueError as e:\n",
        "                print(f\"Error: {e}\")\n",
        "\n",
        "        elif pilihan == '3':\n",
        "            try:\n",
        "                a = validate_input(input(\"Masukkan alas: \"), \"alas\")\n",
        "                t = validate_input(input(\"Masukkan tinggi: \"), \"tinggi\")\n",
        "                luas = 0.5 * a * t\n",
        "                print(f\"Luas Segitiga = {luas}\")\n",
        "            except ValueError as e:\n",
        "                print(f\"Error: {e}\")\n",
        "\n",
        "        elif pilihan == '4':\n",
        "            print(\"Program selesai\")\n",
        "            break\n",
        "\n",
        "        else:\n",
        "            print(\"Pilihan tidak valid\")\n",
        "\n",
        "    except ValueError as e:\n",
        "        print(f\"Error: {e}\")"
      ]
    },
    {
      "cell_type": "code",
      "source": [
        "try:\n",
        "    npm = input(\"Masukkan NPM anda: \")\n",
        "\n",
        "    if not npm.strip():\n",
        "        raise ValueError(\"NPM tidak boleh kosong!\")\n",
        "\n",
        "    if len(npm) != 10:\n",
        "        raise ValueError(\"NPM harus terdiri dari 10 digit!\")\n",
        "\n",
        "    if not npm.isdigit():\n",
        "        raise ValueError(\"NPM hanya boleh berisi angka!\")\n",
        "\n",
        "    jumlah_genap = 0\n",
        "    jumlah_ganjil = 0\n",
        "\n",
        "    for digit in npm:\n",
        "        if digit.isdigit():\n",
        "            angka = int(digit)\n",
        "            if angka % 2 == 0:\n",
        "                jumlah_genap += angka\n",
        "            else:\n",
        "                jumlah_ganjil += angka\n",
        "\n",
        "    print(\"\\nHasil Perhitungan:\")\n",
        "    print(\"Jumlah angka genap:\", jumlah_genap)\n",
        "    print(\"Jumlah angka ganjil:\", jumlah_ganjil)\n",
        "    print(\"NPM anda:\", npm)\n",
        "\n",
        "except ValueError as e:\n",
        "    print(\"Error:\", str(e))\n",
        "except Exception as e:\n",
        "    print(\"Terjadi kesalahan tidak terduga:\", str(e))\n",
        "finally:\n",
        "    print(\"\\nProgram selesai\")"
      ],
      "metadata": {
        "id": "D-rVXX_xMYGu",
        "colab": {
          "base_uri": "https://localhost:8080/"
        },
        "outputId": "01d6fd00-7727-4f09-c06a-b93ba93cbbc4"
      },
      "execution_count": 2,
      "outputs": [
        {
          "output_type": "stream",
          "name": "stdout",
          "text": [
            "Masukkan NPM anda: 24405060777\n",
            "Error: NPM harus terdiri dari 10 digit!\n",
            "\n",
            "Program selesai\n"
          ]
        }
      ]
    }
  ]
}