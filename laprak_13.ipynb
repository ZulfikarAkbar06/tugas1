{
  "nbformat": 4,
  "nbformat_minor": 0,
  "metadata": {
    "colab": {
      "provenance": [],
      "authorship_tag": "ABX9TyN/fTELyOhRrifR0xgbe5u2",
      "include_colab_link": true
    },
    "kernelspec": {
      "name": "python3",
      "display_name": "Python 3"
    },
    "language_info": {
      "name": "python"
    }
  },
  "cells": [
    {
      "cell_type": "markdown",
      "metadata": {
        "id": "view-in-github",
        "colab_type": "text"
      },
      "source": [
        "<a href=\"https://colab.research.google.com/github/ZulfikarAkbar06/tugas1/blob/main/laprak_13.ipynb\" target=\"_parent\"><img src=\"https://colab.research.google.com/assets/colab-badge.svg\" alt=\"Open In Colab\"/></a>"
      ]
    },
    {
      "cell_type": "code",
      "execution_count": 8,
      "metadata": {
        "colab": {
          "base_uri": "https://localhost:8080/"
        },
        "id": "Ccd8T6g8Oqtn",
        "outputId": "c75aa5f8-c727-4b3e-9e71-7ffab096cfd9"
      },
      "outputs": [
        {
          "output_type": "stream",
          "name": "stdout",
          "text": [
            "Data Alat Tulis\n",
            "\n",
            "Nama: Bolpoint\n",
            "Stok: 10\n",
            "Harga Satuan: Rp 2000\n",
            "Harga Total: Rp 20000\n",
            "\n",
            "Nama: Pensil\n",
            "Stok: 10\n",
            "Harga Satuan: Rp 1000\n",
            "Harga Total: Rp 10000\n",
            "\n",
            "Nama: Penghapus\n",
            "Stok: 10\n",
            "Harga Satuan: Rp 500\n",
            "Harga Total: Rp 5000\n",
            "\n",
            "Total Harga Keseluruhan: Rp 35000\n"
          ]
        }
      ],
      "source": [
        "class AlatTulis:\n",
        "    def __init__(self, nama, stok, harga_satuan):\n",
        "        self.nama = nama\n",
        "        self.stok = stok\n",
        "        self.harga_satuan = harga_satuan\n",
        "        self.harga_total = stok * harga_satuan\n",
        "\n",
        "    def set_nama(self, nama):\n",
        "        self.nama = nama\n",
        "\n",
        "    def set_stok(self, stok):\n",
        "        self.stok = stok\n",
        "        self.harga_total = stok * self.harga_satuan\n",
        "\n",
        "    def set_harga_satuan(self, harga_satuan):\n",
        "        self.harga_satuan = harga_satuan\n",
        "        self.harga_total = self.stok * harga_satuan\n",
        "\n",
        "    def get_nama(self):\n",
        "        return self.nama\n",
        "\n",
        "    def get_stok(self):\n",
        "        return self.stok\n",
        "\n",
        "    def get_harga_satuan(self):\n",
        "        return self.harga_satuan\n",
        "\n",
        "    def get_harga_total(self):\n",
        "        return self.harga_total\n",
        "\n",
        "class TransaksiPenjualan:\n",
        "    def __init__(self):\n",
        "        self.daftar_alat_tulis = [\n",
        "            AlatTulis(\"Bolpoint\", 10, 2000),\n",
        "            AlatTulis(\"Pensil\", 10, 1000),\n",
        "            AlatTulis(\"Penghapus\", 10, 500)\n",
        "        ]\n",
        "        self.total_harga = 0\n",
        "        self.hitung_total_harga()\n",
        "\n",
        "    def hitung_total_harga(self):\n",
        "        self.total_harga = sum(alat.get_harga_total() for alat in self.daftar_alat_tulis)\n",
        "\n",
        "    def get_total_harga(self):\n",
        "        return self.total_harga\n",
        "\n",
        "    def tampilkan_data(self):\n",
        "        print(\"Data Alat Tulis\")\n",
        "        for alat in self.daftar_alat_tulis:\n",
        "            print(f\"\\nNama: {alat.get_nama()}\")\n",
        "            print(f\"Stok: {alat.get_stok()}\")\n",
        "            print(f\"Harga Satuan: Rp {alat.get_harga_satuan()}\")\n",
        "            print(f\"Harga Total: Rp {alat.get_harga_total()}\")\n",
        "        print(f\"\\nTotal Harga Keseluruhan: Rp {self.get_total_harga()}\")\n",
        "\n",
        "if __name__ == \"__main__\":\n",
        "    transaksi = TransaksiPenjualan()\n",
        "    transaksi.tampilkan_data()"
      ]
    }
  ]
}