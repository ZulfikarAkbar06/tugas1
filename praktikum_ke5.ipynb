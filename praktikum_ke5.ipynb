{
  "nbformat": 4,
  "nbformat_minor": 0,
  "metadata": {
    "colab": {
      "provenance": [],
      "authorship_tag": "ABX9TyPiCVpY5OA/WfHfhcRPNrIu",
      "include_colab_link": true
    },
    "kernelspec": {
      "name": "python3",
      "display_name": "Python 3"
    },
    "language_info": {
      "name": "python"
    }
  },
  "cells": [
    {
      "cell_type": "markdown",
      "metadata": {
        "id": "view-in-github",
        "colab_type": "text"
      },
      "source": [
        "<a href=\"https://colab.research.google.com/github/ZulfikarAkbar06/tugas1/blob/main/praktikum_ke5.ipynb\" target=\"_parent\"><img src=\"https://colab.research.google.com/assets/colab-badge.svg\" alt=\"Open In Colab\"/></a>"
      ]
    },
    {
      "cell_type": "code",
      "execution_count": null,
      "metadata": {
        "id": "yMhduvBo0LAi",
        "colab": {
          "base_uri": "https://localhost:8080/"
        },
        "outputId": "737d018a-215a-4b4d-e544-c21b6d831321"
      },
      "outputs": [
        {
          "output_type": "stream",
          "name": "stdout",
          "text": [
            "Masukkan tahun: 2025\n",
            "2025 bukan tahun kabisat.\n"
          ]
        }
      ],
      "source": [
        "def is_kabisat(tahun):\n",
        "    if (tahun % 4 == 0 and tahun % 100 != 0) or (tahun % 400 == 0):\n",
        "        return True\n",
        "    return False\n",
        "\n",
        "tahun_input = int(input(\"Masukkan tahun: \"))\n",
        "if is_kabisat(tahun_input):\n",
        "    print(f\"{tahun_input} adalah tahun kabisat.\")\n",
        "else:\n",
        "    print(f\"{tahun_input} bukan tahun kabisat.\")"
      ]
    },
    {
      "cell_type": "code",
      "source": [
        "angka_1 = float(input(\"Masukkan angka pertama\"))\n",
        "angka_2 = float(input(\"Masukkan angka kedua\"))\n",
        "angka_3 = float(input(\"Masukkan angka ketiga\"))\n",
        "\n",
        "terbesar = max(angka_1, angka_2, angka_3)\n",
        "print(f\"\\nangka yang di masukkan:\")\n",
        "print(f\"angka pertama: {angka_1}\")\n",
        "print(f\"angka kedua: {angka_2}\")\n",
        "print(f\"angka ketiga: {angka_3}\")\n",
        "\n",
        "print(f\"\\nangka terbesar di antara ketiganya adalah: {terbesar}\")\n",
        "\n",
        "if terbesar == angka_1:\n",
        "    print(\"angka pertama adalah angka terbesar\")\n",
        "elif terbesar == angka_2:\n",
        "    print(\"angka kedua adalah angka terbesar\")\n",
        "else:\n",
        "    print(\"angka ketiga adalah angka terbesar\")"
      ],
      "metadata": {
        "id": "vnFPrYjx2MA3"
      },
      "execution_count": null,
      "outputs": []
    },
    {
      "cell_type": "code",
      "source": [
        "def hitung_pembayaran(total_belanja, status_member):\n",
        "    diskon = 0 5\n",
        "    if total_belanja >= 200000:\n",
        "        diskon = 0.04\n",
        "    elif total_belanja >= 100000:\n",
        "        diskon = 0.03\n",
        "    if is_member:\n",
        "        diskon += 0.02\n",
        "    jumlah_diskon = total_belanja * diskon\n",
        "    total_bayar = total_belanja - jumlah_diskon\n",
        "    return total_bayar, diskon # Changed . to , to return a tuple\n",
        "total_belanja = float(input(\"Masukkan total belanja: \"))\n",
        "status_member = input(\"Apakah Anda member? (ya/tidak): \").lower() == \"ya\"\n",
        "total_bayar, diskon = hitung_pembayaran(total_belanja, status_member)\n",
        "print(f\"\\nTotal belanja: {total_belanja}\")\n",
        "print(f\"status_member: {'ya' if status_member else 'tidak'}\")\n",
        "print(f\"Diskon yang didapat: {diskon}\")\n",
        "print(f\"Total bayar: {total_bayar}\")"
      ],
      "metadata": {
        "colab": {
          "base_uri": "https://localhost:8080/"
        },
        "id": "EpQFpunx6lpi",
        "outputId": "f7bc53ed-9322-4df9-eab3-3ae0e41e7cb7"
      },
      "execution_count": null,
      "outputs": [
        {
          "output_type": "stream",
          "name": "stdout",
          "text": [
            "Masukkan total belanja: 500000\n",
            "Apakah Anda member? (ya/tidak): tidak\n",
            "\n",
            "Total belanja: 500000.0\n",
            "status_member: tidak\n",
            "Diskon yang didapat: 0.04\n",
            "Total bayar: 480000.0\n"
          ]
        }
      ]
    },
    {
      "cell_type": "code",
      "source": [
        "def validasi_username(username):\n",
        "    return username.strip() != \"\"\n",
        "def validasi_email(email):\n",
        "    return \"@\" in email\n",
        "def validasi_password(password):\n",
        "    return len(password) >= 8\n",
        "def buat_user_baru():\n",
        "    while True:\n",
        "        username = input(\"Masukkan username: \")\n",
        "        if validasi_username(username):\n",
        "            break\n",
        "        else:\n",
        "            print(\"Username tidak boleh kosong. Silakan coba lagi.\")\n",
        "        email = input(\"Masukkan email: \")\n",
        "    while True:\n",
        "        email = input(\"Masukkan email: \")\n",
        "        if validasi_email(email):\n",
        "            break\n",
        "        else:\n",
        "            print(\"Email tidak valid. Silakan coba lagi.\")\n",
        "        password = input(\"Masukkan password: \")\n",
        "    while True:\n",
        "        password = input(\"Masukkan password: \")\n",
        "        if validasi_password(password):\n",
        "            break\n",
        "        else:\n",
        "            print(\"Password harus memiliki minimal 8 karakter. Silakan coba lagi.\")\n",
        "    print(\"User baru berhasil dibuat!\")\n",
        "    return username, email, password\n",
        "username, email, password = buat_user_baru()\n",
        "print(f\"\\nUsername: {username}\")\n",
        "print(f\"Email: {email}\")\n",
        "print(f\"Password: {password}\")"
      ],
      "metadata": {
        "colab": {
          "base_uri": "https://localhost:8080/"
        },
        "id": "QOwpFeJI-XEz",
        "outputId": "64b5d0d5-8ec9-4bc9-f1fa-4f5ac2c13e77"
      },
      "execution_count": null,
      "outputs": [
        {
          "output_type": "stream",
          "name": "stdout",
          "text": [
            "Masukkan username: pikar\n",
            "Masukkan email: akbar@gmail.com\n",
            "Masukkan password: pekar\n",
            "Password harus memiliki minimal 8 karakter. Silakan coba lagi.\n",
            "Masukkan password: pekargans 123\n",
            "User baru berhasil dibuat!\n",
            "\n",
            "Username: pikar\n",
            "Email: akbar@gmail.com\n",
            "Password: pekargans 123\n"
          ]
        }
      ]
    }
  ]
}