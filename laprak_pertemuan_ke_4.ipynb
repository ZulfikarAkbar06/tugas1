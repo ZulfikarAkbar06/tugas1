{
  "cells": [
    {
      "cell_type": "markdown",
      "metadata": {
        "id": "view-in-github",
        "colab_type": "text"
      },
      "source": [
        "<a href=\"https://colab.research.google.com/github/ZulfikarAkbar06/tugas1/blob/main/laprak_pertemuan_ke_4.ipynb\" target=\"_parent\"><img src=\"https://colab.research.google.com/assets/colab-badge.svg\" alt=\"Open In Colab\"/></a>"
      ]
    },
    {
      "cell_type": "code",
      "execution_count": 5,
      "metadata": {
        "colab": {
          "base_uri": "https://localhost:8080/"
        },
        "id": "R4_UbkPjvOK0",
        "outputId": "37ababd8-0d1a-4142-d188-68413a701b0d"
      },
      "outputs": [
        {
          "output_type": "stream",
          "name": "stdout",
          "text": [
            "masukkan umur anda15\n",
            "anda tidak boleh membuat sim\n"
          ]
        }
      ],
      "source": [
        "umur = int(input(\"masukkan umur anda\"))\n",
        "if umur >= 17:\n",
        "  print(\"anda boleh membuat sim\")\n",
        "else :\n",
        "  print(\"anda tidak boleh membuat sim\")"
      ]
    },
    {
      "cell_type": "code",
      "source": [
        "nilai = int(input(\"masukkan nilai\"))\n",
        "if nilai >= 90:\n",
        "    print(\"anda mendapatkan grade A\")\n",
        "elif nilai >= 80:\n",
        "    print(\"anda mendapatkan grade B+\")\n",
        "elif nilai >= 70:\n",
        "    print(\"anda mendapatkan grade B\")\n",
        "elif nilai >= 60:\n",
        "    print(\"anda mendapatkan grade C+\")\n",
        "elif nilai >= 50:\n",
        "    print(\"anda mendapatkan grade C\")\n",
        "elif nilai >= 40:\n",
        "    print(\"anda mendapatkan grade D\")\n",
        "else:\n",
        "    print(\"anda mendapatkan grade E\")"
      ],
      "metadata": {
        "id": "DKz5K0J00nZq",
        "colab": {
          "base_uri": "https://localhost:8080/"
        },
        "outputId": "7d1d2ed1-3561-4498-e866-d49e5dc09315"
      },
      "execution_count": 9,
      "outputs": [
        {
          "output_type": "stream",
          "name": "stdout",
          "text": [
            "masukkan nilai39\n",
            "anda mendapatkan grade E\n"
          ]
        }
      ]
    },
    {
      "cell_type": "code",
      "source": [
        "nilai = int(input(\"masukkan nilai\"))\n",
        "if 80.00 <= nilai <= 100:\n",
        "    print(\"anda mendapatkan grade A\")\n",
        "elif 77.50 <= nilai <= 79.99:\n",
        "    print(\"anda mendapatkan grade A-\")\n",
        "elif 75.00 <= nilai <= 77.49:\n",
        "    print(\"anda mendapatkan grade A/B\")\n",
        "elif 72.50 <= nilai <= 74.99:\n",
        "    print(\"anda mendapatkan grade B+\")\n",
        "elif 70.00 <= nilai <= 72.49:\n",
        "    print(\"anda mendapatkan grade B\")\n",
        "elif 67.50 <= nilai <= 69.99:\n",
        "    print(\"anda mendapatkan grade B-\")\n",
        "elif 65.00 <= nilai <= 67.49:\n",
        "    print(\"anda mendapatkan grade B/C\")\n",
        "elif 62.50 <= nilai <= 64.99:\n",
        "    print(\"anda mendapatkan grade C+\")\n",
        "elif 60.00 <= nilai <= 62.49:\n",
        "    print(\"anda mendapatkan grade C\")\n",
        "elif 55.00 <= nilai <= 59.99:\n",
        "    print(\"anda mendapatkan grade C-\")\n",
        "elif 50.00 <= nilai <= 54.99:\n",
        "    print(\"anda mendapatkan grade C/D\")\n",
        "elif 45.00 <= nilai <= 49.99:\n",
        "    print(\"anda mendapatkan grade D+\")\n",
        "elif 40.00 <= nilai <= 44.99:\n",
        "    print(\"anda mendapatkan grade D\")\n",
        "else:\n",
        "    print(\"anda mendapatkan grade E\")\n",
        "\n"
      ],
      "metadata": {
        "id": "-cf12XxD09dx",
        "colab": {
          "base_uri": "https://localhost:8080/"
        },
        "outputId": "9ec8022c-692d-489f-d8e3-6265b6fd673b"
      },
      "execution_count": 12,
      "outputs": [
        {
          "output_type": "stream",
          "name": "stdout",
          "text": [
            "masukkan nilai 85\n",
            "anda mendapatkan grade A\n"
          ]
        }
      ]
    }
  ],
  "metadata": {
    "colab": {
      "provenance": [],
      "authorship_tag": "ABX9TyNual0nrSkXIFjP0TeTT9Xy",
      "include_colab_link": true
    },
    "kernelspec": {
      "display_name": "Python 3",
      "name": "python3"
    },
    "language_info": {
      "name": "python"
    }
  },
  "nbformat": 4,
  "nbformat_minor": 0
}