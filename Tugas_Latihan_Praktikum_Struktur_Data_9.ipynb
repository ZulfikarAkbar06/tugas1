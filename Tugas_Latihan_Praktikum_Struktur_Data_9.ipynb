{
  "nbformat": 4,
  "nbformat_minor": 0,
  "metadata": {
    "colab": {
      "provenance": [],
      "authorship_tag": "ABX9TyNhlJrct8kHmKfBg7lrk86f",
      "include_colab_link": true
    },
    "kernelspec": {
      "name": "python3",
      "display_name": "Python 3"
    },
    "language_info": {
      "name": "python"
    }
  },
  "cells": [
    {
      "cell_type": "markdown",
      "metadata": {
        "id": "view-in-github",
        "colab_type": "text"
      },
      "source": [
        "<a href=\"https://colab.research.google.com/github/ZulfikarAkbar06/tugas1/blob/main/Tugas_Latihan_Praktikum_Struktur_Data_9.ipynb\" target=\"_parent\"><img src=\"https://colab.research.google.com/assets/colab-badge.svg\" alt=\"Open In Colab\"/></a>"
      ]
    },
    {
      "cell_type": "code",
      "execution_count": null,
      "metadata": {
        "id": "nAE_zXLH4tsd",
        "colab": {
          "base_uri": "https://localhost:8080/"
        },
        "outputId": "d5999bde-5e8d-4a2c-af37-1175e7bca32a"
      },
      "outputs": [
        {
          "output_type": "stream",
          "name": "stdout",
          "text": [
            "Hasil inorder traversal dari binary tree:\n",
            "6 6 13 55 2 "
          ]
        }
      ],
      "source": [
        "# Struktur Tree berdasarkan identitas saya\n",
        "# Nama: Zulfikar Akbar\n",
        "# NPM: 2440506055\n",
        "# Tanggal lahir: 06 Febuary (06-07)\n",
        "\n",
        "class Node:\n",
        "    def __init__(self, data):\n",
        "        self.data = data\n",
        "        self.left = None\n",
        "        self.right = None\n",
        "\n",
        "root = Node(13)\n",
        "\n",
        "root.left = Node(6)\n",
        "\n",
        "root.right = Node(55)\n",
        "\n",
        "root.left.left = Node(6)\n",
        "\n",
        "root.right.right = Node(2)\n",
        "\n",
        "def inorder(node):\n",
        "    if node:\n",
        "        inorder(node.left)\n",
        "        print(node.data, end=' ')\n",
        "        inorder(node.right)\n",
        "\n",
        "print(\"Hasil inorder traversal dari binary tree:\")\n",
        "inorder(root)"
      ]
    },
    {
      "cell_type": "code",
      "source": [
        "# Program Binary Search Tree berdasarkan identitas:\n",
        "# Nama: Zulfikar Akbar\n",
        "# NPM: 2440506055\n",
        "# Tanggal Lahir: 06 Februari (06-02)\n",
        "\n",
        "class Node:\n",
        "    def __init__(self, data):\n",
        "        self.data = data\n",
        "        self.left = None\n",
        "        self.right = None\n",
        "\n",
        "class BinarySearchTree:\n",
        "    def __init__(self):\n",
        "        self.root = None\n",
        "\n",
        "    def insert(self, root, data):\n",
        "        if root is None:\n",
        "            return Node(data)\n",
        "        if data < root.data:\n",
        "            root.left = self.insert(root.left, data)\n",
        "        else:\n",
        "            root.right = self.insert(root.right, data)\n",
        "        return root\n",
        "\n",
        "    def search(self, root, key):\n",
        "        if root is None or root.data == key:\n",
        "            return root\n",
        "        if key < root.data:\n",
        "            return self.search(root.left, key)\n",
        "        return self.search(root.right, key)\n",
        "\n",
        "bst = BinarySearchTree()\n",
        "root = None\n",
        "\n",
        "data_list = [55, 6, 2, 90, 117, 17, 99]\n",
        "\n",
        "for value in data_list:\n",
        "    root = bst.insert(root, value)\n",
        "\n",
        "def inorder(node):\n",
        "    if node:\n",
        "        inorder(node.left)\n",
        "        print(node.data, end=' ')\n",
        "        inorder(node.right)\n",
        "\n",
        "def preorder(node):\n",
        "    if node:\n",
        "        print(node.data, end=' ')\n",
        "        preorder(node.left)\n",
        "        preorder(node.right)\n",
        "\n",
        "def postorder(node):\n",
        "    if node:\n",
        "        postorder(node.left)\n",
        "        postorder(node.right)\n",
        "        print(node.data, end=' ')\n",
        "\n",
        "print(\"Inorder Traversal (terurut):\")\n",
        "inorder(root)\n",
        "print(\"\\nPreorder Traversal:\")\n",
        "preorder(root)\n",
        "print(\"\\nPostorder Traversal:\")\n",
        "postorder(root)\n",
        "\n",
        "def cari_angka(bst, root, angka, keterangan):\n",
        "    print(f\"\\nMencari angka {angka} ({keterangan}):\")\n",
        "    result = bst.search(root, angka)\n",
        "    if result:\n",
        "        print(f\"Angka {angka} ditemukan dalam BST.\")\n",
        "    else:\n",
        "        print(f\"Angka {angka} tidak ditemukan dalam BST.\")\n",
        "\n",
        "cari_angka(bst, root, 55, \"dua digit terakhir NPM\")\n",
        "\n",
        "cari_angka(bst, root, 100, \"angka yang tidak termasuk dalam list\")"
      ],
      "metadata": {
        "colab": {
          "base_uri": "https://localhost:8080/"
        },
        "id": "qyvzYWS4Wyga",
        "outputId": "4757dd0b-f8b1-4781-8429-a1c09428be72"
      },
      "execution_count": null,
      "outputs": [
        {
          "output_type": "stream",
          "name": "stdout",
          "text": [
            "Inorder Traversal (terurut):\n",
            "2 6 17 55 90 99 117 \n",
            "Preorder Traversal:\n",
            "55 6 2 17 90 117 99 \n",
            "Postorder Traversal:\n",
            "2 17 6 99 117 90 55 \n",
            "Mencari angka 55 (dua digit terakhir NPM):\n",
            "Angka 55 ditemukan dalam BST.\n",
            "\n",
            "Mencari angka 100 (angka yang tidak termasuk dalam list):\n",
            "Angka 100 tidak ditemukan dalam BST.\n"
          ]
        }
      ]
    }
  ]
}