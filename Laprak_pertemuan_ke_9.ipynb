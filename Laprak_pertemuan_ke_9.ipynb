{
  "nbformat": 4,
  "nbformat_minor": 0,
  "metadata": {
    "colab": {
      "provenance": [],
      "authorship_tag": "ABX9TyMtTwObRfKD8KRaEZoa25PS",
      "include_colab_link": true
    },
    "kernelspec": {
      "name": "python3",
      "display_name": "Python 3"
    },
    "language_info": {
      "name": "python"
    }
  },
  "cells": [
    {
      "cell_type": "markdown",
      "metadata": {
        "id": "view-in-github",
        "colab_type": "text"
      },
      "source": [
        "<a href=\"https://colab.research.google.com/github/ZulfikarAkbar06/tugas1/blob/main/Laprak_pertemuan_ke_9.ipynb\" target=\"_parent\"><img src=\"https://colab.research.google.com/assets/colab-badge.svg\" alt=\"Open In Colab\"/></a>"
      ]
    },
    {
      "cell_type": "code",
      "execution_count": null,
      "metadata": {
        "colab": {
          "base_uri": "https://localhost:8080/"
        },
        "id": "iOw-AMpUIRPy",
        "outputId": "ef2ccee5-40c7-4c8f-c8ae-09dfaac27744"
      },
      "outputs": [
        {
          "output_type": "stream",
          "name": "stdout",
          "text": [
            "Nama\t\t Zulfikar Akbar\n",
            "Kelas\t\t Rombel 2\n",
            "Tanggal Lahir\t 06-02-2006\n",
            "No Hp\t\t 085709264834\n",
            "Alamat\t\t Kedung Sari Magelang\n",
            "Hobi\t\t Hobi 1 : Pencak Silat , Hobi 2 : Bermain Game\n"
          ]
        }
      ],
      "source": [
        "biodata={\n",
        "    \"Nama\\t\\t\" : \"Zulfikar Akbar\",\n",
        "    \"Kelas\\t\\t\" : \"Rombel 2\",\n",
        "    \"Tanggal Lahir\\t\" : \"06-02-2006\",\n",
        "    \"No Hp\\t\\t\" : \"085709264834\",\n",
        "    \"Alamat\\t\\t\" : \"Kedung Sari Magelang\",\n",
        "    \"Hobi\\t\\t\" : \"Hobi 1 : Pencak Silat , Hobi 2 : Bermain Game\",\n",
        "\n",
        "}\n",
        "for i, j in biodata.items():\n",
        "    print(i,j)"
      ]
    }
  ]
}