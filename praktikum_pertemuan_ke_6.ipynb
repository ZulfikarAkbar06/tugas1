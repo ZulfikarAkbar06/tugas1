{
  "nbformat": 4,
  "nbformat_minor": 0,
  "metadata": {
    "colab": {
      "provenance": [],
      "authorship_tag": "ABX9TyP0QRpuZ+qyA4gONndNl8nV",
      "include_colab_link": true
    },
    "kernelspec": {
      "name": "python3",
      "display_name": "Python 3"
    },
    "language_info": {
      "name": "python"
    }
  },
  "cells": [
    {
      "cell_type": "markdown",
      "metadata": {
        "id": "view-in-github",
        "colab_type": "text"
      },
      "source": [
        "<a href=\"https://colab.research.google.com/github/ZulfikarAkbar06/tugas1/blob/main/praktikum_pertemuan_ke_6.ipynb\" target=\"_parent\"><img src=\"https://colab.research.google.com/assets/colab-badge.svg\" alt=\"Open In Colab\"/></a>"
      ]
    },
    {
      "cell_type": "code",
      "execution_count": 20,
      "metadata": {
        "colab": {
          "base_uri": "https://localhost:8080/"
        },
        "id": "SNAVf_lfzLzB",
        "outputId": "275299e3-2d1e-4641-c38a-b51429bcb775"
      },
      "outputs": [
        {
          "output_type": "stream",
          "name": "stdout",
          "text": [
            "masukkan jumlah baris10\n",
            "         *\n",
            "        * *\n",
            "       * * *\n",
            "      * * * *\n",
            "     * * * * *\n",
            "    * * * * * *\n",
            "   * * * * * * *\n",
            "  * * * * * * * *\n",
            " * * * * * * * * *\n",
            "* * * * * * * * * *\n"
          ]
        }
      ],
      "source": [
        "jumlah_baris = int(input(\"masukkan jumlah baris\"))\n",
        "for i in range(1, jumlah_baris + 1):\n",
        "    for j in range( jumlah_baris - i):\n",
        "        print(\"\", end=\" \")\n",
        "\n",
        "    for k in range(i):\n",
        "        if k == i - 1 :\n",
        "            print(\"*\", end=\"\")\n",
        "        else:\n",
        "            print(\"*\", end=\" \")\n",
        "\n",
        "    print()\n",
        "\n",
        "\n",
        "\n"
      ]
    },
    {
      "cell_type": "code",
      "source": [
        "n = int(input(\"masukkan jumlah baris segitiga pascal:\"))\n",
        "\n",
        "segitiga = [[1]]\n",
        "\n",
        "for i in range(1, n):\n",
        "    baris_baru = [1]\n",
        "    for j in range(1, i):\n",
        "      baris_baru.append(segitiga[i-1][j-1] + segitiga[i-1][j])\n",
        "    baris_baru.append(1)\n",
        "    segitiga.append(baris_baru)\n",
        "\n",
        "max_width = len(str(max(segitiga[-1])))\n",
        "lebar_total = len(' '.join([f\"{num: {max_width}}\" for num in segitiga[-1]]))\n",
        "\n",
        "for i, baris in enumerate(segitiga):\n",
        "  formatted_row = ' '.join([f\"{num:{max_width}}\" for num in baris])\n",
        "  padding = (lebar_total - len(formatted_row)) // 2\n",
        "  print(' ' * padding + formatted_row)\n"
      ],
      "metadata": {
        "colab": {
          "base_uri": "https://localhost:8080/"
        },
        "id": "nLj7g70T6mzz",
        "outputId": "f16d9bd5-de49-4bfd-bb83-4940102c0828"
      },
      "execution_count": 1,
      "outputs": [
        {
          "output_type": "stream",
          "name": "stdout",
          "text": [
            "masukkan jumlah baris segitiga pascal:3\n",
            "   1\n",
            "  1 1\n",
            " 1 2 1\n"
          ]
        }
      ]
    },
    {
      "cell_type": "code",
      "source": [
        "n = int(input(\"masukkan nomor baris segitiga pascal: \"))\n",
        "\n",
        "baris = [1]\n",
        "\n",
        "for _ in range(n - 1):\n",
        "    baris_baru = [1]\n",
        "    for i in range(len(baris) - 1):\n",
        "        baris_baru.append(baris[i] + baris[i + 1])\n",
        "    baris_baru.append(1)\n",
        "    baris = baris_baru\n",
        "\n",
        "\n",
        "jumlah = sum (baris)\n",
        "\n",
        "print(f\"baris ke- {n} dari segitiga pascal adalah\")\n",
        "print(\" \".join(map(str, baris)))\n",
        "print(f\"jumlah angka pada baris tersebut adalah: {jumlah}\")"
      ],
      "metadata": {
        "colab": {
          "base_uri": "https://localhost:8080/"
        },
        "id": "_V2fFmpzztz3",
        "outputId": "07fa131e-fb65-439c-d41a-3007b339fb42"
      },
      "execution_count": 16,
      "outputs": [
        {
          "output_type": "stream",
          "name": "stdout",
          "text": [
            "masukkan nomor baris segitiga pascal: 3\n",
            "baris ke- 3 dari segitiga pascal adalah\n",
            "1 2 1\n",
            "jumlah angka pada baris tersebut adalah: 4\n"
          ]
        }
      ]
    }
  ]
}