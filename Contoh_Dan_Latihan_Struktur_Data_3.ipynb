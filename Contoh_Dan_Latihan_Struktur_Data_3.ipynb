{
  "nbformat": 4,
  "nbformat_minor": 0,
  "metadata": {
    "colab": {
      "provenance": [],
      "authorship_tag": "ABX9TyOJ+j4r0nRyhzE5LewKFBWb",
      "include_colab_link": true
    },
    "kernelspec": {
      "name": "python3",
      "display_name": "Python 3"
    },
    "language_info": {
      "name": "python"
    }
  },
  "cells": [
    {
      "cell_type": "markdown",
      "metadata": {
        "id": "view-in-github",
        "colab_type": "text"
      },
      "source": [
        "<a href=\"https://colab.research.google.com/github/ZulfikarAkbar06/tugas1/blob/main/Contoh_Dan_Latihan_Struktur_Data_3.ipynb\" target=\"_parent\"><img src=\"https://colab.research.google.com/assets/colab-badge.svg\" alt=\"Open In Colab\"/></a>"
      ]
    },
    {
      "cell_type": "code",
      "execution_count": 1,
      "metadata": {
        "colab": {
          "base_uri": "https://localhost:8080/"
        },
        "id": "p_aNP9vbaV2i",
        "outputId": "20ed93ea-d8ef-4c7a-dee2-69c9c2168bc8"
      },
      "outputs": [
        {
          "output_type": "stream",
          "name": "stdout",
          "text": [
            "undo: 'Ini teks ketiga.'\n",
            "undo: 'Ini teks kedua.'\n"
          ]
        }
      ],
      "source": [
        "# Contoh 1\n",
        "class TextEditor:\n",
        "    def __init__(self):\n",
        "        self.history = []\n",
        "\n",
        "    def write(self, text):\n",
        "        self.history.append(text)\n",
        "\n",
        "    def undo(self):\n",
        "        if self.history:\n",
        "            return f\"undo: '{self.history.pop()}'\"\n",
        "        return \"Tidak ada yang bisa di-undo\"\n",
        "\n",
        "# Contoh Penggunaan\n",
        "editor = TextEditor()\n",
        "editor.write(\"Hallo, ini teks pertama.\")\n",
        "editor.write(\"Ini teks kedua.\")\n",
        "editor.write(\"Ini teks ketiga.\")\n",
        "\n",
        "print(editor.undo())\n",
        "print(editor.undo())"
      ]
    },
    {
      "cell_type": "code",
      "source": [
        "# Latihan 1\n",
        "class Calculator:\n",
        "    def __init__(self, initial_value):\n",
        "        self.value = initial_value\n",
        "        self.history = []\n",
        "\n",
        "    def add(self, num):\n",
        "        self.history.append(('add', num))\n",
        "        self.value += num\n",
        "\n",
        "    def subtract(self, num):\n",
        "        self.history.append(('subtract', num))\n",
        "        self.value -= num\n",
        "\n",
        "    def multiply(self, num):\n",
        "        self.history.append(('multiply', num))\n",
        "        self.value *= num\n",
        "\n",
        "    def divide(self, num):\n",
        "        self.history.append(('divide', num))\n",
        "        self.value /= num\n",
        "\n",
        "    def undo(self):\n",
        "        if not self.history:\n",
        "            print(\"Tidak ada operasi yang dapat di-undo.\")\n",
        "            return\n",
        "\n",
        "        operation, num = self.history.pop()\n",
        "        if operation == 'add':\n",
        "            self.value -= num\n",
        "        elif operation == 'subtract':\n",
        "            self.value += num\n",
        "        elif operation == 'multiply':\n",
        "            self.value /= num\n",
        "        elif operation == 'divide':\n",
        "            self.value *= num\n",
        "\n",
        "    def get_value(self):\n",
        "        return self.value\n",
        "\n",
        "calc = Calculator(55)\n",
        "\n",
        "\n",
        "calc.add(10)\n",
        "calc.subtract(5)\n",
        "calc.multiply(2)\n",
        "\n",
        "print(\"Nilai saat ini:\", calc.get_value())\n",
        "\n",
        "calc.undo()\n",
        "print(\"Setelah Undo:\", calc.get_value())\n",
        "\n",
        "calc.undo()\n",
        "print(\"Setelah Undo kedua:\", calc.get_value())\n",
        "\n",
        "calc.undo()\n",
        "print(\"Setelah Undo ketiga:\", calc.get_value())\n",
        "\n",
        "calc.undo()"
      ],
      "metadata": {
        "colab": {
          "base_uri": "https://localhost:8080/"
        },
        "id": "Qjl6YvGwc_5m",
        "outputId": "3cc60633-d6d3-4bea-d21a-c0000e8fd532"
      },
      "execution_count": 2,
      "outputs": [
        {
          "output_type": "stream",
          "name": "stdout",
          "text": [
            "Nilai saat ini: 120\n",
            "Setelah Undo: 60.0\n",
            "Setelah Undo kedua: 65.0\n",
            "Setelah Undo ketiga: 55.0\n",
            "Tidak ada operasi yang dapat di-undo.\n"
          ]
        }
      ]
    },
    {
      "cell_type": "code",
      "source": [
        "# Contoh 2\n",
        "from collections import deque\n",
        "\n",
        "class BrowserHistory:\n",
        "    def __init__(self):\n",
        "        self.history = deque()\n",
        "\n",
        "    def visit(self, url):\n",
        "        self.history.append(url)\n",
        "        print(f\"Mengunjungi: {url}\")\n",
        "\n",
        "    def back(self):\n",
        "        if self.history:\n",
        "            print(f\"Kembali ke: {self.history.pop()}\")\n",
        "        else:\n",
        "            print(\"Tidak ada riwayat!.\")\n",
        "\n",
        "# Contoh Penggunaan\n",
        "browser = BrowserHistory()\n",
        "browser.visit(\"google.com\")\n",
        "browser.visit(\"youtube.com\")\n",
        "browser.visit(\"github.com\")\n",
        "\n",
        "browser.back()\n",
        "browser.back()"
      ],
      "metadata": {
        "colab": {
          "base_uri": "https://localhost:8080/"
        },
        "id": "460pbYUZdRC9",
        "outputId": "a7c4346c-6416-4754-a6e6-076a78fa0603"
      },
      "execution_count": 4,
      "outputs": [
        {
          "output_type": "stream",
          "name": "stdout",
          "text": [
            "Mengunjungi: google.com\n",
            "Mengunjungi: youtube.com\n",
            "Mengunjungi: github.com\n",
            "Kembali ke: github.com\n",
            "Kembali ke: youtube.com\n"
          ]
        }
      ]
    },
    {
      "cell_type": "code",
      "source": [
        "# Latihan 2\n",
        "class MobileAppNavigation:\n",
        "    def __init__(self):\n",
        "        self.history = []\n",
        "\n",
        "    def visit_feature(self, feature_name):\n",
        "        self.history.append(feature_name)\n",
        "        print(f\"Mengujungi: {feature_name}\")\n",
        "\n",
        "    def back(self):\n",
        "        if not self.history:\n",
        "            print(\"Tidak ada lagi fitur untuk digunakan kembali.\")\n",
        "            return\n",
        "\n",
        "        previous_feature = self.history.pop()\n",
        "        print(f\"Kembali ke: {previous_feature}\")\n",
        "\n",
        "    def show_history(self):\n",
        "        print(\"Riwayat navigasi saat in:\", self.history)\n",
        "\n",
        "app = MobileAppNavigation()\n",
        "\n",
        "app.visit_feature(\"F55\")\n",
        "app.visit_feature(\"Profile\")\n",
        "app.visit_feature(\"Settings\")\n",
        "\n",
        "\n",
        "app.show_history()\n",
        "\n",
        "app.back()\n",
        "app.back()\n",
        "app.back()\n",
        "\n",
        "app.back()"
      ],
      "metadata": {
        "colab": {
          "base_uri": "https://localhost:8080/"
        },
        "id": "DDhKHrVmfkCb",
        "outputId": "fbac79c2-be2a-49dd-a2a9-d704a5c35093"
      },
      "execution_count": 8,
      "outputs": [
        {
          "output_type": "stream",
          "name": "stdout",
          "text": [
            "Mengujungi: F55\n",
            "Mengujungi: Profile\n",
            "Mengujungi: Settings\n",
            "Riwayat navigasi saat in: ['F55', 'Profile', 'Settings']\n",
            "Kembali ke: Settings\n",
            "Kembali ke: Profile\n",
            "Kembali ke: F55\n",
            "Tidak ada lagi fitur untuk digunakan kembali.\n"
          ]
        }
      ]
    },
    {
      "cell_type": "code",
      "source": [
        "# Contoh 3\n",
        "from queue import LifoQueue\n",
        "\n",
        "class BackupSystem:\n",
        "    def __init__(self):\n",
        "        self.backups = LifoQueue()\n",
        "\n",
        "    def backup(self, version):\n",
        "        self.backups.put(version)\n",
        "\n",
        "    def latest_backup(self):\n",
        "        if not self.backups.empty():\n",
        "            return f\"Versi terbaru: {self.backups.queue[-1]}\"\n",
        "        return \"Tidak ada cadangan!\"\n",
        "\n",
        "# Contoh Penggunaan\n",
        "backup_system = BackupSystem()\n",
        "backup_system.backup(\"Backup_1\")\n",
        "backup_system.backup(\"Backup_2\")\n",
        "backup_system.backup(\"Backup_3\")\n",
        "\n",
        "print(backup_system.latest_backup())\n"
      ],
      "metadata": {
        "colab": {
          "base_uri": "https://localhost:8080/"
        },
        "id": "TW_3i53kiqeJ",
        "outputId": "3ae9cf0f-26f1-4526-dca8-0ea403230870"
      },
      "execution_count": 11,
      "outputs": [
        {
          "output_type": "stream",
          "name": "stdout",
          "text": [
            "Versi terbaru: Backup_3\n"
          ]
        }
      ]
    },
    {
      "cell_type": "code",
      "source": [
        "# Latihann 3\n",
        "class SistemPenyimpananDraftEmail:\n",
        "    def __init__(self):\n",
        "        self.draft = []\n",
        "\n",
        "    def simpan_draft(self, subjek, isi):\n",
        "        self.draft.append((subjek, isi))\n",
        "        print(f\"Draft disimpan: {subjek}\")\n",
        "\n",
        "    def lihat_draft_terakhir(self):\n",
        "        if not self.draft:\n",
        "            print(\"Tidak ada draft yang tersedia.\")\n",
        "            return\n",
        "\n",
        "        subjek, isi = self.draft[-1]\n",
        "        print(f\"Draft terakhir - Subjek: {subjek}, Isi: {isi}\")\n",
        "\n",
        "    def tampilkan_semua_draft(self):\n",
        "        if not self.draft:\n",
        "            print(\"Tidak ada draft yang tersedia.\")\n",
        "            return\n",
        "\n",
        "        print(\"Semua draft:\")\n",
        "        for i, (subjek, isi) in enumerate(self.draft, 1):\n",
        "            print(f\"{i}. Subjek: {subjek}, Isi: {isi}\")\n",
        "\n",
        "\n",
        "sistem_email = SistemPenyimpananDraftEmail()\n",
        "\n",
        "sistem_email.simpan_draft(\"Zu55\", \"Ini adalah draft email pertama.\")\n",
        "sistem_email.simpan_draft(\"Agenda Meeting\", \"Berikut adalah agenda untuk meeting besok.\")\n",
        "sistem_email.simpan_draft(\"Pembaruan Proyek\", \"Pembaruan terbaru mengenai proyek yang sedang berjalan.\")\n",
        "\n",
        "sistem_email.tampilkan_semua_draft()\n",
        "\n",
        "sistem_email.lihat_draft_terakhir()"
      ],
      "metadata": {
        "colab": {
          "base_uri": "https://localhost:8080/"
        },
        "id": "vq8R-y-RjvTC",
        "outputId": "bea616c1-3c9d-4080-83f0-4277000e54df"
      },
      "execution_count": 12,
      "outputs": [
        {
          "output_type": "stream",
          "name": "stdout",
          "text": [
            "Draft disimpan: Zu55\n",
            "Draft disimpan: Agenda Meeting\n",
            "Draft disimpan: Pembaruan Proyek\n",
            "Semua draft:\n",
            "1. Subjek: Zu55, Isi: Ini adalah draft email pertama.\n",
            "2. Subjek: Agenda Meeting, Isi: Berikut adalah agenda untuk meeting besok.\n",
            "3. Subjek: Pembaruan Proyek, Isi: Pembaruan terbaru mengenai proyek yang sedang berjalan.\n",
            "Draft terakhir - Subjek: Pembaruan Proyek, Isi: Pembaruan terbaru mengenai proyek yang sedang berjalan.\n"
          ]
        }
      ]
    },
    {
      "cell_type": "code",
      "source": [
        "# Contoh 4\n",
        "class CustomerService:\n",
        "    def __init__(self):\n",
        "        self.tickets = []\n",
        "\n",
        "    def add_ticket(self, ticket):\n",
        "        self.tickets.append(ticket)\n",
        "\n",
        "    def process_ticket(self):\n",
        "        if not self.is_empty():\n",
        "            return f\"Memproses tiket: {self.tickets.pop()}!\"\n",
        "        return \"Tidak ada tiket yang harus diproses.\"\n",
        "\n",
        "    def is_empty(self):\n",
        "        return len(self.tickets) == 0\n",
        "\n",
        "# Contoh Penggunaan\n",
        "service = CustomerService()\n",
        "service.add_ticket(\"Tiket 001\")\n",
        "service.add_ticket(\"Tiket 002\")\n",
        "\n",
        "print(service.process_ticket())\n",
        "print(service.is_empty())\n"
      ],
      "metadata": {
        "id": "NTI1hUA7j6DY"
      },
      "execution_count": null,
      "outputs": []
    },
    {
      "cell_type": "code",
      "source": [
        "# Latihan 4\n",
        "class SistemAntreanTiketBioskop:\n",
        "    def __init__(self):\n",
        "        self.antrean = []\n",
        "\n",
        "    def beli_tiket(self, nama_film, nama_pelanggan):\n",
        "        self.antrean.append((nama_film, nama_pelanggan))\n",
        "        print(f\"Tiket untuk film '{nama_film}' atas nama {nama_pelanggan} telah dibeli.\")\n",
        "\n",
        "    def proses_tiket(self):\n",
        "        if not self.antrean:\n",
        "            print(\"Tidak ada tiket yang perlu diproses.\")\n",
        "            return\n",
        "\n",
        "        nama_film, nama_pelanggan = self.antrean.pop()\n",
        "        print(f\"Tiket untuk film '{nama_film}' atas nama {nama_pelanggan} telah diproses.\")\n",
        "\n",
        "    def tampilkan_antrean(self):\n",
        "        if not self.antrean:\n",
        "            print(\"Tidak ada tiket dalam antrean.\")\n",
        "            return\n",
        "\n",
        "        print(\"Antrean tiket saat ini:\")\n",
        "        for i, (nama_film, nama_pelanggan) in enumerate(self.antrean, 1):\n",
        "            print(f\"{i}. Film: {nama_film}, Pelanggan: {nama_pelanggan}\")\n",
        "\n",
        "bioskop = SistemAntreanTiketBioskop()\n",
        "\n",
        "bioskop.beli_tiket(\"F55\", \"Zulfikar\")\n",
        "bioskop.beli_tiket(\"Avengers: Jawa Horor\", \"Akbar\")\n",
        "bioskop.beli_tiket(\"Spider-Man: No Way Home\", \"Nayla\")\n",
        "\n",
        "bioskop.tampilkan_antrean()\n",
        "\n",
        "bioskop.proses_tiket()\n",
        "bioskop.proses_tiket()\n",
        "bioskop.proses_tiket()\n",
        "\n",
        "bioskop.proses_tiket()"
      ],
      "metadata": {
        "colab": {
          "base_uri": "https://localhost:8080/"
        },
        "id": "0abbG52Sk2qC",
        "outputId": "98cc509e-c029-4016-ef99-28c94a85d85a"
      },
      "execution_count": 13,
      "outputs": [
        {
          "output_type": "stream",
          "name": "stdout",
          "text": [
            "Tiket untuk film 'F55' atas nama Zulfikar telah dibeli.\n",
            "Tiket untuk film 'Avengers: Jawa Horor' atas nama Akbar telah dibeli.\n",
            "Tiket untuk film 'Spider-Man: No Way Home' atas nama Nayla telah dibeli.\n",
            "Antrean tiket saat ini:\n",
            "1. Film: F55, Pelanggan: Zulfikar\n",
            "2. Film: Avengers: Jawa Horor, Pelanggan: Akbar\n",
            "3. Film: Spider-Man: No Way Home, Pelanggan: Nayla\n",
            "Tiket untuk film 'Spider-Man: No Way Home' atas nama Nayla telah diproses.\n",
            "Tiket untuk film 'Avengers: Jawa Horor' atas nama Akbar telah diproses.\n",
            "Tiket untuk film 'F55' atas nama Zulfikar telah diproses.\n",
            "Tidak ada tiket yang perlu diproses.\n"
          ]
        }
      ]
    }
  ]
}