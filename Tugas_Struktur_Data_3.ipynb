{
  "cells": [
    {
      "cell_type": "markdown",
      "metadata": {
        "id": "view-in-github",
        "colab_type": "text"
      },
      "source": [
        "<a href=\"https://colab.research.google.com/github/ZulfikarAkbar06/tugas1/blob/main/Tugas_Struktur_Data_3.ipynb\" target=\"_parent\"><img src=\"https://colab.research.google.com/assets/colab-badge.svg\" alt=\"Open In Colab\"/></a>"
      ]
    },
    {
      "cell_type": "code",
      "execution_count": null,
      "metadata": {
        "colab": {
          "background_save": true,
          "base_uri": "https://localhost:8080/"
        },
        "id": "cH8inb5pqMMb",
        "outputId": "67650df4-4ba6-4ed2-98f0-1450d4b3f292"
      },
      "outputs": [
        {
          "metadata": {
            "tags": null
          },
          "name": "stdout",
          "output_type": "stream",
          "text": [
            "Selamat datang di permainan Tower of Hanoi!\n",
            "Tujuan: Pindahkan semua cakram dari Tiang A ke Tiang C dalam 55 langkah.\n",
            "Aturan: Cakram besar tidak boleh diletakkan di atas cakram kecil.\n",
            "\n",
            "Tiang A: [3, 2, 1]\n",
            "Tiang B: []\n",
            "Tiang C: []\n",
            "Langkah ke-0 dari 55 langkah maksimal\n",
            "\n",
            "Pilih tiang asal dan tiang tujuan (A, B, C):\n",
            "Memindahkan cakram 1 dari [3, 2] ke [1]\n",
            "Tiang A: [3, 2]\n",
            "Tiang B: []\n",
            "Tiang C: [1]\n",
            "Langkah ke-1 dari 55 langkah maksimal\n",
            "\n",
            "Pilih tiang asal dan tiang tujuan (A, B, C):\n"
          ]
        }
      ],
      "source": [
        "class TowerOfHanoi:\n",
        "    def __init__(self, jumlah_cakram, langkah_maksimal):\n",
        "        self.jumlah_cakram = jumlah_cakram\n",
        "        self.langkah_maksimal = langkah_maksimal\n",
        "        self.langkah = 0\n",
        "        self.tiang_A = list(range(jumlah_cakram, 0, -1))\n",
        "        self.tiang_B = []\n",
        "        self.tiang_C = []\n",
        "\n",
        "    def push(self, tiang, cakram):\n",
        "        tiang.append(cakram)\n",
        "\n",
        "    def pop(self, tiang):\n",
        "        if tiang:\n",
        "            return tiang.pop()\n",
        "        return None\n",
        "\n",
        "    def pindahkan_cakram(self, dari, ke):\n",
        "        if not dari:\n",
        "            print(\"Tidak ada cakram yang bisa dipindahkan.\")\n",
        "            return False\n",
        "\n",
        "        if ke and dari[-1] > ke[-1]:\n",
        "            print(\"Aturan dilanggar: Cakram besar tidak boleh di atas cakram kecil.\")\n",
        "            return False\n",
        "\n",
        "        cakram = self.pop(dari)\n",
        "        self.push(ke, cakram)\n",
        "        self.langkah += 1\n",
        "        print(f\"Memindahkan cakram {cakram} dari {dari} ke {ke}\")\n",
        "        return True\n",
        "\n",
        "    def tampilkan_tiang(self):\n",
        "        print(f\"Tiang A: {self.tiang_A}\")\n",
        "        print(f\"Tiang B: {self.tiang_B}\")\n",
        "        print(f\"Tiang C: {self.tiang_C}\")\n",
        "        print(f\"Langkah ke-{self.langkah} dari {self.langkah_maksimal} langkah maksimal\\n\")\n",
        "\n",
        "    def cek_kemenangan(self):\n",
        "        return len(self.tiang_C) == self.jumlah_cakram\n",
        "\n",
        "    def main(self):\n",
        "        print(\"Selamat datang di permainan Tower of Hanoi!\")\n",
        "        print(f\"Tujuan: Pindahkan semua cakram dari Tiang A ke Tiang C dalam {self.langkah_maksimal} langkah.\")\n",
        "        print(\"Aturan: Cakram besar tidak boleh diletakkan di atas cakram kecil.\\n\")\n",
        "\n",
        "        while self.langkah < self.langkah_maksimal:\n",
        "            self.tampilkan_tiang()\n",
        "\n",
        "            if self.cek_kemenangan():\n",
        "                print(\"Selamat! Anda menang!\")\n",
        "                return\n",
        "\n",
        "            print(\"Pilih tiang asal dan tiang tujuan (A, B, C):\")\n",
        "            dari = input(\"Tiang asal: \").upper()\n",
        "            ke = input(\"Tiang tujuan: \").upper()\n",
        "\n",
        "            if dari not in [\"A\", \"B\", \"C\"] or ke not in [\"A\", \"B\", \"C\"]:\n",
        "                print(\"Input tidak valid. Harap masukkan A, B, atau C.\")\n",
        "                continue\n",
        "\n",
        "            if dari == ke:\n",
        "                print(\"Tiang asal dan tujuan tidak boleh sama.\")\n",
        "                continue\n",
        "\n",
        "            tiang_dari = self.tiang_A if dari == \"A\" else (self.tiang_B if dari == \"B\" else self.tiang_C)\n",
        "            tiang_ke = self.tiang_A if ke == \"A\" else (self.tiang_B if ke == \"B\" else self.tiang_C)\n",
        "\n",
        "            if not self.pindahkan_cakram(tiang_dari, tiang_ke):\n",
        "                continue\n",
        "\n",
        "        if self.langkah >= self.langkah_maksimal:\n",
        "            print(\"Maaf, Anda kalah. Langkah maksimal telah tercapai.\")\n",
        "            self.tampilkan_tiang()\n",
        "\n",
        "game = TowerOfHanoi(jumlah_cakram=3, langkah_maksimal=55)\n",
        "game.main()"
      ]
    }
  ],
  "metadata": {
    "colab": {
      "provenance": [],
      "authorship_tag": "ABX9TyNC9KrQlRqLJcmhpTbNplz2",
      "include_colab_link": true
    },
    "kernelspec": {
      "display_name": "Python 3",
      "name": "python3"
    },
    "language_info": {
      "name": "python"
    }
  },
  "nbformat": 4,
  "nbformat_minor": 0
}